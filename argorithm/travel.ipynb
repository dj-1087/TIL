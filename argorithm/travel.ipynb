def run(arr, W, v=0, i=0):
    W -= arr[i][0]
    if(W < 0):
        arr = arr.remove(i)
        if(len(arr) == 0):
            return v
        else:
            return run(arr, W, v)
    v += arr[i][1]
    arr = arr.remove(i)
    return run(arr, W, v)


n, W = input()
arr = [[0, 0], [0, 0], [0, 0], [0, 0]]
result = []
for i in range(arr.count):
    arr[i][0], arr[i][1] = input()

for i in range(arr.count):
    result.append(run(arr, i, W))
    
print(max(result))